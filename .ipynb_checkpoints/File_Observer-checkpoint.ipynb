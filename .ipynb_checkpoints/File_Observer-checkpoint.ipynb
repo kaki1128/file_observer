{
 "cells": [
  {
   "cell_type": "code",
   "execution_count": 1,
   "id": "bb1ae7eb",
   "metadata": {},
   "outputs": [],
   "source": [
    "import time\n",
    "from watchdog.observers import Observer\n",
    "from watchdog.events import FileSystemEventHandler\n",
    "import requests\n",
    "import os"
   ]
  },
  {
   "cell_type": "code",
   "execution_count": 9,
   "id": "033706f8",
   "metadata": {},
   "outputs": [],
   "source": [
    "# Set variable\n",
    "folder_path = \"./Test_folder\"\n",
    "\n",
    "post_url = 'https://www.w3schools.com/python/demopage.php'\n",
    "# myobj = {'somekey': 'somevalue'}\n",
    "\n",
    "get_url = 'https://w3schools.com/python/demopage.htm'\n",
    "file_path = \" \""
   ]
  },
  {
   "cell_type": "code",
   "execution_count": 10,
   "id": "b5ef02c8",
   "metadata": {},
   "outputs": [],
   "source": [
    "# Watchdog\n",
    "class MyHandler(FileSystemEventHandler):\n",
    "    def on_created(self,  event):\n",
    "        # might need change to non-global\n",
    "        global file_path\n",
    "        file_path = event.src_path\n",
    "        \n",
    "        # Send file_on_create message\n",
    "        myobj = {\"path\" : event.src_path }\n",
    "        x = requests.post(post_url, json = myobj)\n",
    "        print(x.status_code)\n",
    "        \n",
    "        print({f'Event type: {event.event_type}, Path : {event.src_path}'})"
   ]
  },
  {
   "cell_type": "code",
   "execution_count": 11,
   "id": "d13fe1c8",
   "metadata": {},
   "outputs": [],
   "source": [
    "# Remove file\n",
    "def remove_file(url, file):\n",
    "    # Get the delete request\n",
    "    y = requests.get(url)\n",
    "            \n",
    "    # Remove the file\n",
    "    if  y.status_code == 200 and os.path.exists(file):\n",
    "        os.remove(file)\n",
    "        print(\"removed successfully\")\n",
    "    else:\n",
    "        print(\"Monitoring\")"
   ]
  },
  {
   "cell_type": "code",
   "execution_count": 12,
   "id": "e3814e3e",
   "metadata": {},
   "outputs": [
    {
     "name": "stderr",
     "output_type": "stream",
     "text": [
      "Unhandled exception in FSEventsEmitter\n",
      "Traceback (most recent call last):\n",
      "  File \"/Users/bettywan/opt/anaconda3/lib/python3.9/site-packages/watchdog/observers/fsevents.py\", line 315, in run\n",
      "    _fsevents.add_watch(self, self.watch, self.events_callback, self.pathnames)\n",
      "RuntimeError: Cannot add watch <ObservedWatch: path=./Test_folder, is_recursive=False> - it is already scheduled\n"
     ]
    },
    {
     "name": "stdout",
     "output_type": "stream",
     "text": [
      "Monitoring\n",
      "Monitoring\n",
      "200\n",
      "{'Event type: created, Path : /Users/bettywan/Desktop/CerebroProjects/File_detect/Test_folder/download copy 8.png'}\n",
      "removed successfully\n",
      "Monitoring\n",
      "Stop\n"
     ]
    }
   ],
   "source": [
    "if __name__ ==  \"__main__\":\n",
    "    event_handler = MyHandler()\n",
    "    observer = Observer()\n",
    "    observer.schedule(event_handler,  path = folder_path,  recursive = False)\n",
    "    observer.start()                \n",
    "    try:\n",
    "        while True:\n",
    "            time.sleep(1)\n",
    "            remove_file(get_url, file_path)\n",
    "#             print(\"Monitoring\")\n",
    "    except KeyboardInterrupt:\n",
    "        observer.stop()\n",
    "        print(\"Stop\")\n",
    "    observer.join()"
   ]
  },
  {
   "cell_type": "code",
   "execution_count": null,
   "id": "fd215c37",
   "metadata": {},
   "outputs": [],
   "source": []
  }
 ],
 "metadata": {
  "kernelspec": {
   "display_name": "Python 3 (ipykernel)",
   "language": "python",
   "name": "python3"
  },
  "language_info": {
   "codemirror_mode": {
    "name": "ipython",
    "version": 3
   },
   "file_extension": ".py",
   "mimetype": "text/x-python",
   "name": "python",
   "nbconvert_exporter": "python",
   "pygments_lexer": "ipython3",
   "version": "3.9.13"
  }
 },
 "nbformat": 4,
 "nbformat_minor": 5
}
